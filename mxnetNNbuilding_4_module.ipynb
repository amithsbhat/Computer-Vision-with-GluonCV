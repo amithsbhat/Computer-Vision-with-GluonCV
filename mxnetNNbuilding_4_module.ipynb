{
 "cells": [
  {
   "cell_type": "markdown",
   "metadata": {
    "deletable": false,
    "editable": false,
    "nbgrader": {
     "cell_type": "markdown",
     "checksum": "5074b9d54a7c4c8dae2324b8cb78e503",
     "grade": false,
     "grade_id": "cell-fc0b22c123cbdd06",
     "locked": true,
     "schema_version": 3,
     "solution": false,
     "task": false
    }
   },
   "source": [
    "# Module 4 Assignment\n",
    "\n",
    "In this assignment, you'll use some of the key concepts from the module to create a neural network for image classification of items of clothing. Step one will be to normalize the input images, and you'll use NDArray operations to calculate the channel mean. You'll create a function to evaluate the performance of networks on the data, and construct a couple of different neural networks for image classification."
   ]
  },
  {
   "cell_type": "markdown",
   "metadata": {
    "deletable": false,
    "editable": false,
    "nbgrader": {
     "cell_type": "markdown",
     "checksum": "f2bccf9794a4c9efd92100928a3f022e",
     "grade": false,
     "grade_id": "cell-abb560c26ec49a12",
     "locked": true,
     "schema_version": 3,
     "solution": false,
     "task": false
    }
   },
   "source": [
    "## 0) Setup\n",
    "\n",
    "We start with a number of required imports and set the data paths."
   ]
  },
  {
   "cell_type": "code",
   "execution_count": 36,
   "metadata": {
    "deletable": false,
    "editable": false,
    "nbgrader": {
     "cell_type": "code",
     "checksum": "e397a0e3a9f2b4ad956a4b67efb70529",
     "grade": false,
     "grade_id": "cell-f6bddc494c867188",
     "locked": true,
     "schema_version": 3,
     "solution": false,
     "task": false
    }
   },
   "outputs": [],
   "source": [
    "from matplotlib import pyplot as plt\n",
    "import mxnet as mx\n",
    "from mxnet.gluon.data.vision import transforms\n",
    "from mxnet.gluon.data.vision import FashionMNIST\n",
    "import numpy as np\n",
    "import os\n",
    "from pathlib import Path\n",
    "from tqdm import tqdm"
   ]
  },
  {
   "cell_type": "code",
   "execution_count": 37,
   "metadata": {
    "deletable": false,
    "editable": false,
    "nbgrader": {
     "cell_type": "code",
     "checksum": "340f681667b511ce348ad946ab4617c9",
     "grade": false,
     "grade_id": "cell-5f7e8a74007e1017",
     "locked": true,
     "schema_version": 3,
     "solution": false,
     "task": false
    }
   },
   "outputs": [],
   "source": [
    "M4_DATA = Path(os.getenv('DATA_DIR', '../../data'), 'module_4')\n",
    "M4_IMAGES = Path(M4_DATA, 'images')\n",
    "M4_MODELS = Path(M4_DATA, 'models')"
   ]
  },
  {
   "cell_type": "markdown",
   "metadata": {
    "deletable": false,
    "editable": false,
    "nbgrader": {
     "cell_type": "markdown",
     "checksum": "bb710ee3e61851413d0efa8fa50e44b5",
     "grade": false,
     "grade_id": "cell-95f0a503b6239c30",
     "locked": true,
     "schema_version": 3,
     "solution": false,
     "task": false
    }
   },
   "source": [
    "## 1) Data (& NDArray Operations)\n",
    "\n",
    "We'll use the in-built dataset called `FashionMNIST` which is a variant of the commonly used `MNIST` dataset. It consists of 60,000 training images and 10,000 test images, and each image is a 28px by 28px greyscale image. We'll start by creating the `dataset` and visualize an example image."
   ]
  },
  {
   "cell_type": "code",
   "execution_count": 38,
   "metadata": {
    "deletable": false,
    "editable": false,
    "nbgrader": {
     "cell_type": "code",
     "checksum": "1ed040aeb4a6597a4b1b6732e5ea1758",
     "grade": false,
     "grade_id": "cell-ddb747acaf729e37",
     "locked": true,
     "schema_version": 3,
     "solution": false,
     "task": false
    }
   },
   "outputs": [],
   "source": [
    "test_dataset = FashionMNIST(train=False, root=M4_IMAGES).transform_first(transforms.ToTensor())"
   ]
  },
  {
   "cell_type": "code",
   "execution_count": 39,
   "metadata": {},
   "outputs": [
    {
     "data": {
      "text/plain": [
       "<matplotlib.image.AxesImage at 0x7f9c9765da20>"
      ]
     },
     "execution_count": 39,
     "metadata": {},
     "output_type": "execute_result"
    },
    {
     "data": {
      "image/png": "[encoded data removed]",
      "text/plain": [
       "<Figure size 432x288 with 1 Axes>"
      ]
     },
     "metadata": {
      "needs_background": "light"
     },
     "output_type": "display_data"
    }
   ],
   "source": [
    "sample_idx = 123\n",
    "sample_data, sample_label = test_dataset[sample_idx]\n",
    "plt.imshow(sample_data[0].asnumpy())  # 0 for first and only channel (since greyscale)."
   ]
  },
  {
   "cell_type": "markdown",
   "metadata": {
    "deletable": false,
    "editable": false,
    "nbgrader": {
     "cell_type": "markdown",
     "checksum": "ed2ca106a69f67ee2e77786e0a54f4c8",
     "grade": false,
     "grade_id": "cell-cdac79c9b0e7354e",
     "locked": true,
     "schema_version": 3,
     "solution": false,
     "task": false
    }
   },
   "source": [
    "One important step before passing images to the network is normalization: i.e. shifting and scaling the pixel values so that they are zero-centered on average and have unit variance.\n",
    "\n",
    "One method of normalization is pixelwise, where each **pixel** should have a unit normal distribution of values. Another is channelwise, where each **channel** should have a unit normal distribution of values. \n",
    "\n",
    "One of the first steps in the pixelwise approach is to calculate an 'average image' from the dataset. Using a sample of 1024 images, you should now implement a function to calculate the average intensity for every pixel. You'd typically want to calculate this from all samples of the dataset, but 1024 samples will be sufficient for now."
   ]
  },
  {
   "cell_type": "code",
   "execution_count": 40,
   "metadata": {},
   "outputs": [
    {
     "name": "stdout",
     "output_type": "stream",
     "text": [
      "(1024, 1, 28, 28)\n"
     ]
    }
   ],
   "source": [
    "test_dataloader = mx.gluon.data.DataLoader(test_dataset, shuffle=False, batch_size=1024)\n",
    "for data, label in test_dataloader:\n",
    "    break\n",
    "print(data.shape)"
   ]
  },
  {
   "cell_type": "code",
   "execution_count": 41,
   "metadata": {},
   "outputs": [
    {
     "data": {
      "text/plain": [
       "(\n",
       " [[[0.         0.         0.         0.         0.         0.\n",
       "    0.         0.03529412 0.03137255 0.         0.         0.13333334\n",
       "    0.11372549 0.02745098 0.         0.04313726 0.09411765 0.\n",
       "    0.         0.01176471 0.01176471 0.00392157 0.         0.00392157\n",
       "    0.00392157 0.         0.         0.        ]\n",
       "   [0.         0.         0.01568628 0.         0.         0.00392157\n",
       "    0.         0.         0.         0.         0.         0.17254902\n",
       "    0.34509805 0.3882353  0.47843137 0.48235294 0.3137255  0.\n",
       "    0.         0.         0.         0.00392157 0.00392157 0.00392157\n",
       "    0.         0.         0.         0.        ]\n",
       "   [0.         0.         0.00392157 0.00784314 0.         0.\n",
       "    0.         0.01176471 0.18039216 0.68235296 0.9764706  0.2627451\n",
       "    0.         0.36862746 0.8235294  0.23921569 0.05490196 0.83137256\n",
       "    0.6156863  0.14509805 0.         0.         0.         0.\n",
       "    0.00392157 0.         0.         0.        ]\n",
       "   [0.         0.         0.00784314 0.00784314 0.         0.09019608\n",
       "    0.65882355 0.80784315 0.9490196  0.9372549  0.93333334 0.8392157\n",
       "    0.49019608 0.23921569 0.44313726 0.2901961  0.52156866 0.9254902\n",
       "    0.93333334 0.9254902  0.79607844 0.72156864 0.07843138 0.\n",
       "    0.00392157 0.         0.         0.        ]\n",
       "   [0.         0.         0.00392157 0.         0.         0.6862745\n",
       "    0.9607843  0.8745098  0.8117647  0.8039216  0.80784315 0.84705883\n",
       "    1.         0.92941177 0.9843137  0.9098039  0.8745098  0.83137256\n",
       "    0.78431374 0.8039216  0.84705883 0.9764706  0.6784314  0.\n",
       "    0.         0.00784314 0.         0.        ]\n",
       "   [0.         0.         0.02745098 0.         0.20784314 0.88235295\n",
       "    0.7882353  0.77254903 0.78431374 0.7882353  0.80784315 0.78039217\n",
       "    0.77254903 0.7254902  0.7607843  0.8        0.9098039  0.8862745\n",
       "    0.9764706  0.85882354 0.7607843  0.8039216  0.8980392  0.12941177\n",
       "    0.         0.00392157 0.         0.        ]\n",
       "   [0.         0.         0.00392157 0.         0.52156866 0.8745098\n",
       "    0.8156863  0.7529412  0.7647059  0.9137255  0.8862745  0.84705883\n",
       "    0.7490196  0.8235294  0.7372549  0.9254902  0.7294118  0.\n",
       "    0.19607843 0.91764706 0.8117647  0.8156863  0.90588236 0.52156866\n",
       "    0.         0.         0.         0.        ]\n",
       "   [0.         0.         0.         0.         0.84705883 0.85490197\n",
       "    0.84705883 0.7607843  0.8980392  0.6745098  0.2509804  0.85882354\n",
       "    0.7882353  0.78431374 0.78431374 0.96862745 0.26666668 0.28235295\n",
       "    0.21176471 0.64705884 0.92941177 0.83137256 0.85882354 0.8862745\n",
       "    0.         0.         0.         0.        ]\n",
       "   [0.         0.         0.         0.19607843 0.8666667  0.8117647\n",
       "    0.8627451  0.827451   0.8117647  0.64705884 0.5411765  0.8039216\n",
       "    0.7529412  0.7490196  0.74509805 0.9098039  0.46666667 0.44313726\n",
       "    0.2627451  0.6784314  0.92941177 0.8509804  0.8156863  0.8666667\n",
       "    0.11372549 0.         0.         0.        ]\n",
       "   [0.         0.         0.         0.5137255  0.84705883 0.78431374\n",
       "    0.85882354 0.8117647  0.83137256 0.90588236 0.8862745  0.75686276\n",
       "    0.8392157  0.8784314  0.80784315 0.79607844 0.9019608  0.47843137\n",
       "    0.4392157  0.91764706 0.8784314  0.8392157  0.8        0.8784314\n",
       "    0.48235294 0.         0.         0.        ]\n",
       "   [0.         0.         0.         0.7647059  0.83137256 0.8\n",
       "    0.827451   0.79607844 0.8039216  0.78431374 0.72156864 0.8352941\n",
       "    0.63529414 0.5411765  0.75686276 0.8117647  0.79607844 0.90588236\n",
       "    0.9607843  0.8156863  0.8627451  0.827451   0.79607844 0.85882354\n",
       "    0.7019608  0.         0.         0.        ]\n",
       "   [0.         0.         0.03137255 0.7254902  0.7490196  0.85490197\n",
       "    0.9137255  0.85882354 0.7882353  0.8666667  0.8352941  0.9647059\n",
       "    0.44705883 0.49803922 0.3137255  0.5058824  0.9098039  0.7764706\n",
       "    0.85490197 0.8117647  0.9254902  0.8901961  0.8627451  0.84705883\n",
       "    0.6745098  0.08235294 0.         0.        ]\n",
       "   [0.         0.         0.08235294 0.01568628 0.01960784 0.2509804\n",
       "    0.627451   0.8784314  0.8784314  0.5647059  0.73333335 0.77254903\n",
       "    0.827451   0.8117647  0.7294118  0.7529412  0.8235294  0.83137256\n",
       "    0.85490197 0.88235295 0.9254902  0.69411767 0.41568628 0.21960784\n",
       "    0.10980392 0.00392157 0.         0.        ]\n",
       "   [0.         0.         0.00392157 0.00392157 0.         0.00784314\n",
       "    0.         0.45490196 0.9882353  0.3764706  0.47058824 0.2\n",
       "    0.28627452 0.27450982 0.48235294 0.30980393 0.29803923 0.2509804\n",
       "    0.63529414 0.9882353  0.4627451  0.00392157 0.01176471 0.\n",
       "    0.01568628 0.00784314 0.         0.        ]\n",
       "   [0.         0.         0.         0.         0.         0.\n",
       "    0.         0.4509804  0.8862745  0.5686275  0.6666667  0.60784316\n",
       "    0.64705884 0.6313726  0.62352943 0.49019608 0.6862745  0.54901963\n",
       "    0.68235296 0.9254902  0.37254903 0.         0.00784314 0.00784314\n",
       "    0.         0.         0.         0.        ]\n",
       "   [0.         0.         0.         0.         0.00392157 0.00784314\n",
       "    0.         0.5137255  0.88235295 0.8        0.8509804  0.8666667\n",
       "    0.8627451  0.8509804  0.8784314  0.90588236 0.8862745  0.92941177\n",
       "    0.79607844 0.92941177 0.4        0.         0.01568628 0.00784314\n",
       "    0.00392157 0.00784314 0.         0.        ]\n",
       "   [0.         0.         0.00392157 0.00392157 0.         0.01176471\n",
       "    0.         0.5294118  0.8745098  0.7882353  0.78039217 0.7607843\n",
       "    0.7764706  0.7647059  0.7764706  0.7529412  0.79607844 0.78039217\n",
       "    0.8117647  0.90588236 0.4392157  0.         0.01568628 0.\n",
       "    0.         0.         0.         0.        ]\n",
       "   [0.         0.         0.00392157 0.00392157 0.         0.00392157\n",
       "    0.         0.5254902  0.8745098  0.78039217 0.80784315 0.78039217\n",
       "    0.7882353  0.78431374 0.79607844 0.80784315 0.8117647  0.8235294\n",
       "    0.80784315 0.8901961  0.46666667 0.         0.01176471 0.\n",
       "    0.         0.00392157 0.         0.        ]\n",
       "   [0.         0.         0.         0.         0.         0.00392157\n",
       "    0.         0.54509807 0.8745098  0.7764706  0.8        0.78431374\n",
       "    0.7882353  0.78431374 0.7882353  0.8        0.80784315 0.8156863\n",
       "    0.80784315 0.8980392  0.5019608  0.         0.01568628 0.\n",
       "    0.         0.         0.         0.        ]\n",
       "   [0.         0.         0.         0.         0.         0.00392157\n",
       "    0.         0.5686275  0.8745098  0.7647059  0.8039216  0.7882353\n",
       "    0.7882353  0.78431374 0.8        0.8        0.80784315 0.827451\n",
       "    0.8039216  0.9019608  0.54509807 0.         0.00784314 0.\n",
       "    0.         0.         0.         0.        ]\n",
       "   [0.         0.         0.00392157 0.         0.00392157 0.\n",
       "    0.         0.6156863  0.8666667  0.7607843  0.8        0.8\n",
       "    0.7882353  0.7882353  0.79607844 0.8039216  0.8156863  0.827451\n",
       "    0.8        0.9019608  0.5803922  0.         0.00784314 0.\n",
       "    0.00392157 0.00392157 0.         0.        ]\n",
       "   [0.         0.         0.00392157 0.00392157 0.00392157 0.\n",
       "    0.         0.6509804  0.8627451  0.7607843  0.79607844 0.79607844\n",
       "    0.8039216  0.79607844 0.79607844 0.80784315 0.8117647  0.83137256\n",
       "    0.8        0.9019608  0.6156863  0.         0.00784314 0.00392157\n",
       "    0.00392157 0.00392157 0.         0.        ]\n",
       "   [0.         0.         0.         0.         0.         0.\n",
       "    0.         0.67058825 0.8666667  0.7647059  0.80784315 0.78431374\n",
       "    0.78039217 0.79607844 0.79607844 0.8039216  0.80784315 0.8117647\n",
       "    0.8        0.8862745  0.70980394 0.         0.         0.\n",
       "    0.         0.         0.         0.        ]\n",
       "   [0.         0.         0.         0.         0.00392157 0.\n",
       "    0.         0.64705884 0.8784314  0.77254903 0.7882353  0.8156863\n",
       "    0.78039217 0.8        0.8039216  0.8117647  0.8235294  0.8352941\n",
       "    0.8117647  0.8980392  0.73333335 0.         0.00392157 0.00784314\n",
       "    0.         0.         0.         0.        ]\n",
       "   [0.         0.         0.         0.         0.         0.\n",
       "    0.         0.5019608  0.7882353  0.79607844 0.7882353  0.8117647\n",
       "    0.827451   0.79607844 0.8039216  0.80784315 0.8235294  0.8352941\n",
       "    0.8039216  0.88235295 0.7490196  0.         0.         0.00784314\n",
       "    0.         0.         0.         0.        ]\n",
       "   [0.         0.         0.         0.         0.00392157 0.00392157\n",
       "    0.         0.5529412  0.7882353  0.7490196  0.7372549  0.7607843\n",
       "    0.73333335 0.73333335 0.7490196  0.75686276 0.7647059  0.78039217\n",
       "    0.78039217 0.85490197 0.6313726  0.         0.         0.\n",
       "    0.         0.         0.         0.        ]\n",
       "   [0.         0.         0.         0.         0.         0.00392157\n",
       "    0.         0.83137256 0.9411765  0.8352941  0.9372549  0.9137255\n",
       "    0.9372549  0.90588236 0.9098039  0.9254902  0.9490196  0.9607843\n",
       "    0.8784314  0.9607843  0.91764706 0.         0.01176471 0.\n",
       "    0.         0.         0.         0.        ]\n",
       "   [0.         0.         0.         0.         0.         0.\n",
       "    0.         0.14509805 0.27058825 0.36862746 0.48235294 0.49803922\n",
       "    0.5411765  0.5411765  0.5568628  0.5686275  0.5294118  0.49019608\n",
       "    0.40392157 0.34117648 0.21960784 0.         0.         0.\n",
       "    0.         0.         0.         0.        ]]]\n",
       " <NDArray 1x28x28 @cpu(0)>, (1, 28, 28))"
      ]
     },
     "execution_count": 41,
     "metadata": {},
     "output_type": "execute_result"
    }
   ],
   "source": [
    "data[0], data[0].shape"
   ]
  },
  {
   "cell_type": "code",
   "execution_count": 42,
   "metadata": {
    "deletable": false,
    "nbgrader": {
     "cell_type": "code",
     "checksum": "028925a530e2ed4d602226963e5e3409",
     "grade": false,
     "grade_id": "cell-c347c7c9342cbeb1",
     "locked": false,
     "schema_version": 3,
     "solution": true,
     "task": false
    }
   },
   "outputs": [],
   "source": [
    "\n",
    "def get_average_image_from_batch(batch):\n",
    "    \"\"\"\n",
    "    Given a batch of images, this function should calculate the 'average image'.\n",
    "    \n",
    "    :param batch: batch of images in NCHW layout.\n",
    "    :type batch: mx.nd.NDArray\n",
    "    \n",
    "    :return: average image in CHW layout.\n",
    "    :rtype: mx.nd.NDArray\n",
    "    \"\"\"\n",
    "    return( mx.nd.mean(batch, axis=0)   )"
   ]
  },
  {
   "cell_type": "code",
   "execution_count": 29,
   "metadata": {
    "deletable": false,
    "editable": false,
    "nbgrader": {
     "cell_type": "code",
     "checksum": "7afa5949415bf47373e5760b8df699c3",
     "grade": true,
     "grade_id": "cell-1b3d8700f95a0e26",
     "locked": true,
     "points": 1,
     "schema_version": 3,
     "solution": false,
     "task": false
    }
   },
   "outputs": [
    {
     "data": {
      "text/plain": [
       "<matplotlib.image.AxesImage at 0x7f9c9771a0b8>"
      ]
     },
     "execution_count": 29,
     "metadata": {},
     "output_type": "execute_result"
    },
    {
     "data": {
      "image/png": "[encoded data removed]",
      "text/plain": [
       "<Figure size 432x288 with 1 Axes>"
      ]
     },
     "metadata": {
      "needs_background": "light"
     },
     "output_type": "display_data"
    }
   ],
   "source": [
    "average_image = get_average_image_from_batch(data)\n",
    "assert average_image.shape == (1, 28, 28)\n",
    "plt.imshow(average_image[0].asnumpy())  # 0 for first and only channel (since greyscale)."
   ]
  },
  {
   "cell_type": "markdown",
   "metadata": {
    "deletable": false,
    "editable": false,
    "nbgrader": {
     "cell_type": "markdown",
     "checksum": "1c60c3d88653d4d13ddfc97a891d2041",
     "grade": false,
     "grade_id": "cell-8289081a2395a032",
     "locked": true,
     "schema_version": 3,
     "solution": false,
     "task": false
    }
   },
   "source": [
    "Using the average image that was calculated above, you should now implement a function to perform the pixelwise normalization."
   ]
  },
  {
   "cell_type": "code",
   "execution_count": 43,
   "metadata": {
    "deletable": false,
    "nbgrader": {
     "cell_type": "code",
     "checksum": "237357a2b5ce96f61e37e68a000aae79",
     "grade": false,
     "grade_id": "cell-970eddb5f76be1f0",
     "locked": false,
     "schema_version": 3,
     "solution": true,
     "task": false
    }
   },
   "outputs": [],
   "source": [
    "def subtract_average_image(sample, average_image):\n",
    "    \"\"\"\n",
    "    Given a sample images, this function should return a pixelwise normalized image,\n",
    "    using a pre-calculated average image.\n",
    "    \n",
    "    :param sample: sample image in CHW layout.\n",
    "    :type sample: mx.nd.NDArray\n",
    "    :param average_image: average image of the dataset in CHW layout.\n",
    "    :type average_image: mx.nd.NDArray\n",
    "    \n",
    "    :return: pixelwise normalized image in CHW layout.\n",
    "    :rtype: mx.nd.NDArray\n",
    "    \"\"\"\n",
    "    \n",
    "    return sample - average_image"
   ]
  },
  {
   "cell_type": "code",
   "execution_count": 44,
   "metadata": {
    "deletable": false,
    "editable": false,
    "nbgrader": {
     "cell_type": "code",
     "checksum": "93a9e45c83be15ffd405137234e41c24",
     "grade": true,
     "grade_id": "cell-4f8cfd20e9027638",
     "locked": true,
     "points": 1,
     "schema_version": 3,
     "solution": false,
     "task": false
    }
   },
   "outputs": [
    {
     "data": {
      "text/plain": [
       "<matplotlib.image.AxesImage at 0x7f9cb1fc5e48>"
      ]
     },
     "execution_count": 44,
     "metadata": {},
     "output_type": "execute_result"
    },
    {
     "data": {
      "image/png": "[encoded data removed]",
      "text/plain": [
       "<Figure size 432x288 with 1 Axes>"
      ]
     },
     "metadata": {
      "needs_background": "light"
     },
     "output_type": "display_data"
    }
   ],
   "source": [
    "normalized_sample_data = subtract_average_image(sample_data, average_image)\n",
    "assert normalized_sample_data.shape == (1, 28, 28)\n",
    "np.testing.assert_array_almost_equal(normalized_sample_data.asnumpy(), (sample_data - average_image).asnumpy())\n",
    "plt.imshow(normalized_sample_data[0].asnumpy())  # 0 for first and only channel (since greyscale)."
   ]
  },
  {
   "cell_type": "markdown",
   "metadata": {},
   "source": [
    "You've now created a transform for pixelwise normalization! As mentioned previously, another common method for normalization is channelwise normalization. Complete the following function to calculate the channel averages from a batch of multi-channel inputs.\n",
    "\n",
    "Note: although the image from our dataset only have one channel, your function should support cases where there are more than one channel (e.g. RGB images).\n",
    "\n",
    "**Hint**: Check out the `axis` (or `dim`) arguments on MXNet NDArray functions."
   ]
  },
  {
   "cell_type": "code",
   "execution_count": 45,
   "metadata": {
    "deletable": false,
    "nbgrader": {
     "cell_type": "code",
     "checksum": "a20aa5394fbb2a4d50af68667ed995c6",
     "grade": false,
     "grade_id": "cell-d2bd82c63c0c28c9",
     "locked": false,
     "schema_version": 3,
     "solution": true,
     "task": false
    }
   },
   "outputs": [],
   "source": [
    "\n",
    "def get_channel_average_from_batch(batch):\n",
    "    \"\"\"\n",
    "    Given a batch of images, this function should return the\n",
    "    average value for each channel across the images of the batch.\n",
    "    \n",
    "    :param batch: batch of images in NCHW layout.\n",
    "    :type batch: mx.nd.NDArray\n",
    "    \n",
    "    :return: channel averages in C layout.\n",
    "    :rtype: mx.nd.NDArray\n",
    "    \"\"\"\n",
    "    return( mx.nd.mean(batch, axis=1, exclude=True)   )"
   ]
  },
  {
   "cell_type": "code",
   "execution_count": 46,
   "metadata": {
    "deletable": false,
    "editable": false,
    "nbgrader": {
     "cell_type": "code",
     "checksum": "61ce9104b23fdb0b51a498914c9375b3",
     "grade": true,
     "grade_id": "cell-1132428ff435fdff",
     "locked": true,
     "points": 1,
     "schema_version": 3,
     "solution": false,
     "task": false
    }
   },
   "outputs": [
    {
     "name": "stdout",
     "output_type": "stream",
     "text": [
      "0.28757906\n"
     ]
    }
   ],
   "source": [
    "channel_average = get_channel_average_from_batch(data).asscalar()\n",
    "print(channel_average)\n",
    "assert isinstance(channel_average, np.float32)\n",
    "np.testing.assert_almost_equal(channel_average, 0.28757906, decimal=5)\n",
    "\n",
    "test_averages = mx.nd.array([1,2,3,4])\n",
    "test_input = mx.nd.reshape(test_averages, shape=(1,4,1,1)) * mx.nd.ones(shape=(10,4,25,25))\n",
    "test_channel_average = get_channel_average_from_batch(test_input)\n",
    "np.testing.assert_array_almost_equal(test_averages.asnumpy(), test_channel_average.asnumpy())"
   ]
  },
  {
   "cell_type": "markdown",
   "metadata": {
    "deletable": false,
    "editable": false,
    "nbgrader": {
     "cell_type": "markdown",
     "checksum": "ebf52b1649339c3bc81609fd7d8eb8a6",
     "grade": false,
     "grade_id": "cell-2fea1fe63abd02d1",
     "locked": true,
     "schema_version": 3,
     "solution": false,
     "task": false
    }
   },
   "source": [
    "Using this channel average, we can use the `Normalize` transform to apply this to all samples in our dataset as they are loaded."
   ]
  },
  {
   "cell_type": "code",
   "execution_count": 47,
   "metadata": {
    "deletable": false,
    "editable": false,
    "nbgrader": {
     "cell_type": "code",
     "checksum": "7c8c7678fffe3316b1d26df20948d9d3",
     "grade": false,
     "grade_id": "cell-1406cf76c0bf2d9c",
     "locked": true,
     "schema_version": 3,
     "solution": false,
     "task": false
    }
   },
   "outputs": [],
   "source": [
    "channel_std = 0.31\n",
    "transform = transforms.Compose([\n",
    "    transforms.ToTensor(),\n",
    "    transforms.Normalize(channel_average, channel_std)\n",
    "])"
   ]
  },
  {
   "cell_type": "code",
   "execution_count": 48,
   "metadata": {
    "deletable": false,
    "editable": false,
    "nbgrader": {
     "cell_type": "code",
     "checksum": "997486e117bb21d91c6c6d2e1793d5e1",
     "grade": false,
     "grade_id": "cell-09b598f5df48310e",
     "locked": true,
     "schema_version": 3,
     "solution": false,
     "task": false
    }
   },
   "outputs": [],
   "source": [
    "train_dataset = FashionMNIST(train=True, root=M4_IMAGES).transform_first(transform)\n",
    "test_dataset = FashionMNIST(train=False, root=M4_IMAGES).transform_first(transform)\n",
    "train_dataloader = mx.gluon.data.DataLoader(train_dataset, shuffle=True, batch_size=128)\n",
    "test_dataloader = mx.gluon.data.DataLoader(train_dataset, shuffle=False, batch_size=128)"
   ]
  },
  {
   "cell_type": "markdown",
   "metadata": {},
   "source": [
    "## 2) Metrics\n",
    "\n",
    "In this section, you'll implement a function to test the prediction quality of networks. Using `Accuracy` as the evaluation metric, complete the following function that takes a network and a dataloader (with test data) and returns an MXNet Metric that has been updated with labels and predictions. We'll use this function in the next section, when we train classification networks.\n",
    "\n",
    "**Hint**: You'll find classes in the `mxnet.metric` subpackage useful for this task."
   ]
  },
  {
   "cell_type": "code",
   "execution_count": 70,
   "metadata": {
    "deletable": false,
    "nbgrader": {
     "cell_type": "code",
     "checksum": "648cf62a617935ea6d929c14af92eb8b",
     "grade": false,
     "grade_id": "cell-5fab64bc4b4aa8dc",
     "locked": false,
     "schema_version": 3,
     "solution": true,
     "task": false
    }
   },
   "outputs": [],
   "source": [
    "from mxnet import metric\n",
    "\n",
    "def calculate_accuracy(network, dataloader):\n",
    "    \"\"\"\n",
    "    Calculates accuracy of the network on the data given by the dataloader.\n",
    "    \n",
    "    :param network: network to be tested\n",
    "    :type network: mx.gluon.Block\n",
    "    :param dataloader: dataloader for test data\n",
    "    :type dataloader: mx.gluon.data.DataLoader\n",
    "    \n",
    "    :return: updated metric\n",
    "    :rtype: mx.metric.EvalMetric\n",
    "    \"\"\"\n",
    "\n",
    "    accuracy = metric.Accuracy()\n",
    "    for data, labels in tqdm(dataloader):\n",
    "        preds = network(data)\n",
    "        accuracy.update(labels= labels, preds = preds)\n",
    "    return accuracy"
   ]
  },
  {
   "cell_type": "code",
   "execution_count": 50,
   "metadata": {
    "deletable": false,
    "editable": false,
    "nbgrader": {
     "cell_type": "code",
     "checksum": "2a5f1bac4bcf9a3e81d52ea269a61070",
     "grade": true,
     "grade_id": "cell-56296ecc0573751e",
     "locked": true,
     "points": 2,
     "schema_version": 3,
     "solution": false,
     "task": false
    }
   },
   "outputs": [
    {
     "name": "stderr",
     "output_type": "stream",
     "text": [
      "100%|██████████| 469/469 [00:43<00:00, 12.45it/s]"
     ]
    },
    {
     "name": "stdout",
     "output_type": "stream",
     "text": [
      "('accuracy', 0.08005)\n"
     ]
    },
    {
     "name": "stderr",
     "output_type": "stream",
     "text": [
      "\n"
     ]
    }
   ],
   "source": [
    "test_network = mx.gluon.nn.Dense(units=10)\n",
    "test_network.initialize()\n",
    "metric = calculate_accuracy(test_network, test_dataloader)\n",
    "print(metric.get())\n",
    "isinstance(metric, mx.metric.EvalMetric)\n",
    "assert metric.name == 'accuracy'\n",
    "assert metric.num_inst == 60000"
   ]
  },
  {
   "cell_type": "markdown",
   "metadata": {
    "deletable": false,
    "editable": false,
    "nbgrader": {
     "cell_type": "markdown",
     "checksum": "cb82044f0fc5c506b7e0ded91ed9b428",
     "grade": false,
     "grade_id": "cell-3f04789a1e05233e",
     "locked": true,
     "schema_version": 3,
     "solution": false,
     "task": false
    }
   },
   "source": [
    "## 3) Network"
   ]
  },
  {
   "cell_type": "markdown",
   "metadata": {},
   "source": [
    "In the section, you'll implement a couple of different image classification networks and train then on the `FashionMNIST` dataset. A `train` function is already provided in this assignment, because the focus will be on network construction."
   ]
  },
  {
   "cell_type": "code",
   "execution_count": 71,
   "metadata": {
    "deletable": false,
    "editable": false,
    "nbgrader": {
     "cell_type": "code",
     "checksum": "77f5bee4daf2e646e8b00a4cb792c9ab",
     "grade": false,
     "grade_id": "cell-027a252196f10f5c",
     "locked": true,
     "schema_version": 3,
     "solution": false,
     "task": false
    }
   },
   "outputs": [],
   "source": [
    "def train(network, dataloader):\n",
    "    softmax_cross_entropy = mx.gluon.loss.SoftmaxCrossEntropyLoss()\n",
    "    trainer = mx.gluon.Trainer(network.collect_params(), 'sgd', {'learning_rate': 0.1})\n",
    "    for data, label in tqdm(dataloader):\n",
    "        with mx.autograd.record():\n",
    "            output = network(data)\n",
    "            loss = softmax_cross_entropy(output, label)\n",
    "        loss.backward()\n",
    "        trainer.step(data.shape[0])"
   ]
  },
  {
   "cell_type": "markdown",
   "metadata": {
    "deletable": false,
    "editable": false,
    "nbgrader": {
     "cell_type": "markdown",
     "checksum": "3d078ccad213eb7f0540c0e0a7f4fd6f",
     "grade": false,
     "grade_id": "cell-8835b94cce73c05b",
     "locked": true,
     "schema_version": 3,
     "solution": false,
     "task": false
    }
   },
   "source": [
    "Your first model should be a sequential network, with 3 layers. You first layer should have 16 hidden units, the second should have 8 hidden units and the last layer should the correct number of output units for the classification task at hand. You should add ReLU activations on all hidden layers, but not the output layer. You should define `network` in the cell below.\n",
    "\n",
    "**Hint**: You'll find classes in the `mxnet.gluon.nn` subpackage useful for this task."
   ]
  },
  {
   "cell_type": "code",
   "execution_count": 52,
   "metadata": {
    "deletable": false,
    "nbgrader": {
     "cell_type": "code",
     "checksum": "d35d987cac115ee0c6fcde1ccf9395ab",
     "grade": false,
     "grade_id": "cell-60d2aed0c10748dc",
     "locked": false,
     "schema_version": 3,
     "solution": true,
     "task": false
    }
   },
   "outputs": [],
   "source": [
    "from mxnet.gluon import nn \n",
    "network = nn.Sequential()\n",
    "network.add(\n",
    "nn.Dense(16, activation = 'relu'),\n",
    "nn.Dense(8,activation ='relu'),\n",
    "nn.Dense(10)\n",
    ")"
   ]
  },
  {
   "cell_type": "code",
   "execution_count": 53,
   "metadata": {
    "deletable": false,
    "editable": false,
    "nbgrader": {
     "cell_type": "code",
     "checksum": "bac44090ed660601c9bb11488e4457e8",
     "grade": true,
     "grade_id": "cell-fab27ff9cbdb32f3",
     "locked": true,
     "points": 2,
     "schema_version": 3,
     "solution": false,
     "task": false
    }
   },
   "outputs": [],
   "source": [
    "assert isinstance(network, mx.gluon.nn.Sequential)\n",
    "assert len(network) == 3\n",
    "assert isinstance(network[0], mx.gluon.nn.Dense)\n",
    "assert network[0].act.name.endswith('relu')\n",
    "assert network[0].weight.shape[0] == 16\n",
    "assert isinstance(network[1], mx.gluon.nn.Dense)\n",
    "assert network[1].act.name.endswith('relu')\n",
    "assert network[1].weight.shape[0] == 8\n",
    "assert isinstance(network[2], mx.gluon.nn.Dense)\n",
    "assert network[2].act is None\n",
    "assert network[2].weight.shape[0] == 10"
   ]
  },
  {
   "cell_type": "markdown",
   "metadata": {
    "deletable": false,
    "editable": false,
    "nbgrader": {
     "cell_type": "markdown",
     "checksum": "a12fc8925d662b2379c9da051c6ad04d",
     "grade": false,
     "grade_id": "cell-0c105c466260d8df",
     "locked": true,
     "schema_version": 3,
     "solution": false,
     "task": false
    }
   },
   "source": [
    "With your network now defined, you should initialize its parameters using the Xavier method in the cell below.\n",
    "\n",
    "**Hint**: You'll find classes in the `mxnet.init` subpackage useful for this task."
   ]
  },
  {
   "cell_type": "code",
   "execution_count": 55,
   "metadata": {
    "deletable": false,
    "nbgrader": {
     "cell_type": "code",
     "checksum": "5034e223765daeb8ff11357a8385621d",
     "grade": false,
     "grade_id": "cell-fa9e3830a921ccc1",
     "locked": false,
     "schema_version": 3,
     "solution": true,
     "task": false
    }
   },
   "outputs": [],
   "source": [
    "initializer = mx.init.Xavier()\n",
    "network.initialize(initializer)"
   ]
  },
  {
   "cell_type": "code",
   "execution_count": 56,
   "metadata": {
    "deletable": false,
    "editable": false,
    "nbgrader": {
     "cell_type": "code",
     "checksum": "082079014c9879392a59ea4f9ba69b89",
     "grade": true,
     "grade_id": "cell-aab6f8ac1595ddf3",
     "locked": true,
     "points": 1,
     "schema_version": 3,
     "solution": false,
     "task": false
    }
   },
   "outputs": [],
   "source": [
    "assert isinstance(initializer, mx.initializer.Xavier)"
   ]
  },
  {
   "cell_type": "markdown",
   "metadata": {
    "deletable": false,
    "editable": false,
    "nbgrader": {
     "cell_type": "markdown",
     "checksum": "7b66a83fe4f502980f1aa332babea54a",
     "grade": false,
     "grade_id": "cell-71470ca5057ba4e7",
     "locked": true,
     "schema_version": 3,
     "solution": false,
     "task": false
    }
   },
   "source": [
    "We'll now check the network summary and see that the network has 12786 trainable parameters."
   ]
  },
  {
   "cell_type": "code",
   "execution_count": 57,
   "metadata": {
    "deletable": false,
    "editable": false,
    "nbgrader": {
     "cell_type": "code",
     "checksum": "59aea017252d590b7e5f1d59e4997cf6",
     "grade": false,
     "grade_id": "cell-a13e4f389f395b25",
     "locked": true,
     "schema_version": 3,
     "solution": false,
     "task": false
    }
   },
   "outputs": [
    {
     "name": "stdout",
     "output_type": "stream",
     "text": [
      "--------------------------------------------------------------------------------\n",
      "        Layer (type)                                Output Shape         Param #\n",
      "================================================================================\n",
      "               Input                           (1024, 1, 28, 28)               0\n",
      "        Activation-1                    <Symbol dense1_relu_fwd>               0\n",
      "        Activation-2                                  (1024, 16)               0\n",
      "             Dense-3                                  (1024, 16)           12560\n",
      "        Activation-4                    <Symbol dense2_relu_fwd>               0\n",
      "        Activation-5                                   (1024, 8)               0\n",
      "             Dense-6                                   (1024, 8)             136\n",
      "             Dense-7                                  (1024, 10)              90\n",
      "================================================================================\n",
      "Parameters in forward computation graph, duplicate included\n",
      "   Total params: 12786\n",
      "   Trainable params: 12786\n",
      "   Non-trainable params: 0\n",
      "Shared params in forward computation graph: 0\n",
      "Unique parameters in model: 12786\n",
      "--------------------------------------------------------------------------------\n"
     ]
    }
   ],
   "source": [
    "network.summary(data)"
   ]
  },
  {
   "cell_type": "markdown",
   "metadata": {
    "deletable": false,
    "editable": false,
    "nbgrader": {
     "cell_type": "markdown",
     "checksum": "d5770042162ac6a34dfd0eb57cef562a",
     "grade": false,
     "grade_id": "cell-f23f24b41797c698",
     "locked": true,
     "schema_version": 3,
     "solution": false,
     "task": false
    }
   },
   "source": [
    "And use the `calculate_accuracy` function defined in the previous section to evaluate the performance of this architecture."
   ]
  },
  {
   "cell_type": "code",
   "execution_count": 62,
   "metadata": {
    "deletable": false,
    "editable": false,
    "nbgrader": {
     "cell_type": "code",
     "checksum": "958cb52f6fea4c610ad6fb12b69c9cd6",
     "grade": false,
     "grade_id": "cell-15085d2bbec07611",
     "locked": true,
     "schema_version": 3,
     "solution": false,
     "task": false
    }
   },
   "outputs": [
    {
     "name": "stderr",
     "output_type": "stream",
     "text": [
      "100%|██████████| 469/469 [00:46<00:00, 10.06it/s]\n",
      "100%|██████████| 469/469 [00:35<00:00, 13.10it/s]"
     ]
    },
    {
     "name": "stdout",
     "output_type": "stream",
     "text": [
      "('accuracy', 0.8400333333333333)\n"
     ]
    },
    {
     "name": "stderr",
     "output_type": "stream",
     "text": [
      "\n"
     ]
    }
   ],
   "source": [
    "train(network, train_dataloader)\n",
    "metric = calculate_accuracy(network, test_dataloader)\n",
    "print(metric.get())"
   ]
  },
  {
   "cell_type": "markdown",
   "metadata": {
    "deletable": false,
    "editable": false,
    "nbgrader": {
     "cell_type": "markdown",
     "checksum": "aae608960225ca66817116e7e18a9247",
     "grade": false,
     "grade_id": "cell-b4bb794993da124b",
     "locked": true,
     "schema_version": 3,
     "solution": false,
     "task": false
    }
   },
   "source": [
    "You're final objective in this assignment is to try a different architecture that uses convolutional and max pooling layers. You should define another sequential network, but this time it should have 5 layers in total:\n",
    "\n",
    "1. Convolutional Layer (32 channels, 3x3 kernel and ReLU activation)\n",
    "2. Max Pooling Layer (2x2 kernel and 2x2 stride)\n",
    "3. Convolutional Layer (16 channels, 3x3 kernel and ReLU activation)\n",
    "4. Max Pooling Layer (2x2 kernel and 2x2 stride)\n",
    "5. Dense Layer (10 output units)"
   ]
  },
  {
   "cell_type": "code",
   "execution_count": 64,
   "metadata": {
    "deletable": false,
    "nbgrader": {
     "cell_type": "code",
     "checksum": "a2da3d4d690016aa9b1fddafe7c9f4c5",
     "grade": false,
     "grade_id": "cell-27362e76af20b586",
     "locked": false,
     "schema_version": 3,
     "solution": true,
     "task": false
    }
   },
   "outputs": [],
   "source": [
    "network = nn.Sequential()\n",
    "network.add(\n",
    "nn.Conv2D(32, (3,3), activation = 'relu'),\n",
    "nn.MaxPool2D(pool_size=(2,2), strides=(2,2)),\n",
    "nn.Conv2D(16, (3,3), activation = 'relu'),\n",
    "nn.MaxPool2D(pool_size=(2,2), strides=(2,2)),\n",
    "nn.Dense(10)\n",
    ")"
   ]
  },
  {
   "cell_type": "code",
   "execution_count": 66,
   "metadata": {
    "deletable": false,
    "editable": false,
    "nbgrader": {
     "cell_type": "code",
     "checksum": "658f43b3f172cefd8a416f9143c0cc9a",
     "grade": true,
     "grade_id": "cell-f6d99cca56b03a4c",
     "locked": true,
     "points": 2,
     "schema_version": 3,
     "solution": false,
     "task": false
    }
   },
   "outputs": [],
   "source": [
    "assert isinstance(network, mx.gluon.nn.Sequential)\n",
    "assert len(network) == 5\n",
    "assert isinstance(network[0], mx.gluon.nn.Conv2D)\n",
    "assert network[0].act.name.endswith('relu')\n",
    "assert network[0].weight.shape[0] == 32\n",
    "assert isinstance(network[1], mx.gluon.nn.MaxPool2D)\n",
    "assert isinstance(network[2], mx.gluon.nn.Conv2D)\n",
    "assert network[2].act.name.endswith('relu')\n",
    "assert network[2].weight.shape[0] == 16\n",
    "assert isinstance(network[3], mx.gluon.nn.MaxPool2D)\n",
    "assert isinstance(network[4], mx.gluon.nn.Dense)\n",
    "assert network[4].act is None\n",
    "assert network[4].weight.shape[0] == 10"
   ]
  },
  {
   "cell_type": "markdown",
   "metadata": {
    "deletable": false,
    "editable": false,
    "nbgrader": {
     "cell_type": "markdown",
     "checksum": "59680071ae46fddcb37e07b965fc9dbc",
     "grade": false,
     "grade_id": "cell-7aba8aa6bd98797e",
     "locked": true,
     "schema_version": 3,
     "solution": false,
     "task": false
    }
   },
   "source": [
    "Let's initialize the parameters of the network, and show a summary of the network architecture.\n",
    "\n",
    "With 8954 trainable parameters, this network's got 30% fewer parameters than the previous network."
   ]
  },
  {
   "cell_type": "code",
   "execution_count": 67,
   "metadata": {
    "deletable": false,
    "editable": false,
    "nbgrader": {
     "cell_type": "code",
     "checksum": "226a74a762a411b9a6ec985a7b3b4d02",
     "grade": false,
     "grade_id": "cell-5b9ad1023c066bbe",
     "locked": true,
     "schema_version": 3,
     "solution": false,
     "task": false
    }
   },
   "outputs": [
    {
     "name": "stdout",
     "output_type": "stream",
     "text": [
      "--------------------------------------------------------------------------------\n",
      "        Layer (type)                                Output Shape         Param #\n",
      "================================================================================\n",
      "               Input                           (1024, 1, 28, 28)               0\n",
      "        Activation-1                     <Symbol conv0_relu_fwd>               0\n",
      "        Activation-2                          (1024, 32, 26, 26)               0\n",
      "            Conv2D-3                          (1024, 32, 26, 26)             320\n",
      "         MaxPool2D-4                          (1024, 32, 13, 13)               0\n",
      "        Activation-5                     <Symbol conv1_relu_fwd>               0\n",
      "        Activation-6                          (1024, 16, 11, 11)               0\n",
      "            Conv2D-7                          (1024, 16, 11, 11)            4624\n",
      "         MaxPool2D-8                            (1024, 16, 5, 5)               0\n",
      "             Dense-9                                  (1024, 10)            4010\n",
      "================================================================================\n",
      "Parameters in forward computation graph, duplicate included\n",
      "   Total params: 8954\n",
      "   Trainable params: 8954\n",
      "   Non-trainable params: 0\n",
      "Shared params in forward computation graph: 0\n",
      "Unique parameters in model: 8954\n",
      "--------------------------------------------------------------------------------\n"
     ]
    }
   ],
   "source": [
    "network.initialize(init=initializer)\n",
    "network.summary(data)"
   ]
  },
  {
   "cell_type": "markdown",
   "metadata": {
    "deletable": false,
    "editable": false,
    "nbgrader": {
     "cell_type": "markdown",
     "checksum": "9c93f40630de025d96f78ca5df6f8b0a",
     "grade": false,
     "grade_id": "cell-3b2f9d639c371864",
     "locked": true,
     "schema_version": 3,
     "solution": false,
     "task": false
    }
   },
   "source": [
    "And finally, let's evaluate the network performance."
   ]
  },
  {
   "cell_type": "code",
   "execution_count": 72,
   "metadata": {
    "deletable": false,
    "editable": false,
    "nbgrader": {
     "cell_type": "code",
     "checksum": "797450f201e5b58137770b5afbcdde27",
     "grade": false,
     "grade_id": "cell-6a0bbef7dab7fc86",
     "locked": true,
     "schema_version": 3,
     "solution": false,
     "task": false
    }
   },
   "outputs": [
    {
     "name": "stderr",
     "output_type": "stream",
     "text": [
      "100%|██████████| 469/469 [02:30<00:00,  2.89it/s]\n",
      "100%|██████████| 469/469 [04:09<00:00,  4.04it/s]  "
     ]
    },
    {
     "name": "stdout",
     "output_type": "stream",
     "text": [
      "('accuracy', 0.8697666666666667)\n"
     ]
    },
    {
     "name": "stderr",
     "output_type": "stream",
     "text": [
      "\n"
     ]
    }
   ],
   "source": [
    "train(network, train_dataloader)\n",
    "metric = calculate_accuracy(network, test_dataloader)\n",
    "print(metric.get())"
   ]
  },
  {
   "cell_type": "markdown",
   "metadata": {
    "deletable": false,
    "editable": false,
    "nbgrader": {
     "cell_type": "markdown",
     "checksum": "daac204b6befa96b9d1ceb3883b7dffb",
     "grade": false,
     "grade_id": "cell-9a3e6f798eaeb49b",
     "locked": true,
     "schema_version": 3,
     "solution": false,
     "task": false
    }
   },
   "source": [
    "We're only training for a single epoch here. You'd expect to get improved accuracy if training for more epochs. "
   ]
  }
 ],
 "metadata": {
  "coursera": {
   "assignment_name": "module_4",
   "assignment_version": 2,
   "course_slug": "aws-computer-vision-gluoncv",
   "graded_item_id": "FoZrl",
   "launcher_item_id": "vcm0m"
  },
  "kernelspec": {
   "display_name": "Python 3",
   "language": "python",
   "name": "python3"
  },
  "language_info": {
   "codemirror_mode": {
    "name": "ipython",
    "version": 3
   },
   "file_extension": ".py",
   "mimetype": "text/x-python",
   "name": "python",
   "nbconvert_exporter": "python",
   "pygments_lexer": "ipython3",
   "version": "3.7.3"
  }
 },
 "nbformat": 4,
 "nbformat_minor": 1
}
